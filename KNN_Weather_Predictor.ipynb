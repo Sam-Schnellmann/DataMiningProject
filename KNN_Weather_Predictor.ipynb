{
 "cells": [
  {
   "cell_type": "code",
   "execution_count": 4,
   "id": "60be34a1",
   "metadata": {},
   "outputs": [],
   "source": [
    "__Title__ = \"Using KNN to predict rainy weather patterns through temprature and wind speed\"\n",
    "__Author__ = \"Sam Schnellmann\"\n",
    "__Credits__ = \"The Coriges Weather Project [Gabriel Marafino, Seth Haldiman, Clayton Napoli, Sam Schnellmann]\""
   ]
  },
  {
   "cell_type": "code",
   "execution_count": 1,
   "id": "081cf6ae",
   "metadata": {},
   "outputs": [
    {
     "data": {
      "text/plain": [
       "'C:\\\\Users\\\\schne'"
      ]
     },
     "execution_count": 1,
     "metadata": {},
     "output_type": "execute_result"
    }
   ],
   "source": [
    "%pwd"
   ]
  },
  {
   "cell_type": "code",
   "execution_count": 2,
   "id": "bc50e434",
   "metadata": {
    "scrolled": false
   },
   "outputs": [
    {
     "name": "stdout",
     "output_type": "stream",
     "text": [
      "C:\\Users\\schne\\OneDrive\\Desktop\\data mining\\Data Mining project\n"
     ]
    }
   ],
   "source": [
    "# Changing the folder file where I have the rest of the teams code stored\n",
    "%cd C:\\Users\\schne\\OneDrive\\Desktop\\data mining\\Data Mining project"
   ]
  },
  {
   "cell_type": "code",
   "execution_count": 5,
   "id": "4b173e5c",
   "metadata": {},
   "outputs": [
    {
     "data": {
      "text/plain": [
       "'C:\\\\Users\\\\schne\\\\OneDrive\\\\Desktop\\\\data mining\\\\Data Mining project'"
      ]
     },
     "execution_count": 5,
     "metadata": {},
     "output_type": "execute_result"
    }
   ],
   "source": [
    "# Making sure that I'm in the right folder\n",
    "%pwd"
   ]
  },
  {
   "cell_type": "code",
   "execution_count": 6,
   "id": "e90fe7e0",
   "metadata": {},
   "outputs": [],
   "source": [
    "# Importing everything I need / I know\n",
    "import numpy as np\n",
    "import pandas as pd\n",
    "import matplotlib.pyplot as plt\n",
    "import seaborn as sns\n",
    "import math\n",
    "from collections import defaultdict\n",
    "from sklearn.model_selection import train_test_split\n",
    "from sklearn.preprocessing import StandardScaler\n",
    "from sklearn.neighbors import KNeighborsClassifier\n",
    "from sklearn.neighbors import KNeighborsRegressor\n",
    "from sklearn.metrics import accuracy_score, classification_report\n",
    "from sklearn.metrics import mean_squared_error"
   ]
  },
  {
   "cell_type": "code",
   "execution_count": 7,
   "id": "7aa356e8",
   "metadata": {},
   "outputs": [
    {
     "data": {
      "text/html": [
       "<div>\n",
       "<style scoped>\n",
       "    .dataframe tbody tr th:only-of-type {\n",
       "        vertical-align: middle;\n",
       "    }\n",
       "\n",
       "    .dataframe tbody tr th {\n",
       "        vertical-align: top;\n",
       "    }\n",
       "\n",
       "    .dataframe thead th {\n",
       "        text-align: right;\n",
       "    }\n",
       "</style>\n",
       "<table border=\"1\" class=\"dataframe\">\n",
       "  <thead>\n",
       "    <tr style=\"text-align: right;\">\n",
       "      <th></th>\n",
       "      <th>Precipitation</th>\n",
       "      <th>Month</th>\n",
       "      <th>Week</th>\n",
       "      <th>Year</th>\n",
       "      <th>City</th>\n",
       "      <th>Code</th>\n",
       "      <th>State</th>\n",
       "      <th>AverageTemp</th>\n",
       "      <th>MaxTemp</th>\n",
       "      <th>MinTemp</th>\n",
       "      <th>WindDirection</th>\n",
       "      <th>WindSpeed</th>\n",
       "    </tr>\n",
       "  </thead>\n",
       "  <tbody>\n",
       "    <tr>\n",
       "      <th>0</th>\n",
       "      <td>0.00</td>\n",
       "      <td>1</td>\n",
       "      <td>3</td>\n",
       "      <td>2016</td>\n",
       "      <td>Birmingham</td>\n",
       "      <td>BHM</td>\n",
       "      <td>Alabama</td>\n",
       "      <td>39</td>\n",
       "      <td>46</td>\n",
       "      <td>32</td>\n",
       "      <td>33</td>\n",
       "      <td>4.33</td>\n",
       "    </tr>\n",
       "    <tr>\n",
       "      <th>1</th>\n",
       "      <td>0.00</td>\n",
       "      <td>1</td>\n",
       "      <td>3</td>\n",
       "      <td>2016</td>\n",
       "      <td>Huntsville</td>\n",
       "      <td>HSV</td>\n",
       "      <td>Alabama</td>\n",
       "      <td>39</td>\n",
       "      <td>47</td>\n",
       "      <td>31</td>\n",
       "      <td>32</td>\n",
       "      <td>3.86</td>\n",
       "    </tr>\n",
       "    <tr>\n",
       "      <th>2</th>\n",
       "      <td>0.16</td>\n",
       "      <td>1</td>\n",
       "      <td>3</td>\n",
       "      <td>2016</td>\n",
       "      <td>Mobile</td>\n",
       "      <td>MOB</td>\n",
       "      <td>Alabama</td>\n",
       "      <td>46</td>\n",
       "      <td>51</td>\n",
       "      <td>41</td>\n",
       "      <td>35</td>\n",
       "      <td>9.73</td>\n",
       "    </tr>\n",
       "    <tr>\n",
       "      <th>3</th>\n",
       "      <td>0.00</td>\n",
       "      <td>1</td>\n",
       "      <td>3</td>\n",
       "      <td>2016</td>\n",
       "      <td>Montgomery</td>\n",
       "      <td>MGM</td>\n",
       "      <td>Alabama</td>\n",
       "      <td>45</td>\n",
       "      <td>52</td>\n",
       "      <td>38</td>\n",
       "      <td>32</td>\n",
       "      <td>6.86</td>\n",
       "    </tr>\n",
       "    <tr>\n",
       "      <th>4</th>\n",
       "      <td>0.01</td>\n",
       "      <td>1</td>\n",
       "      <td>3</td>\n",
       "      <td>2016</td>\n",
       "      <td>Anchorage</td>\n",
       "      <td>ANC</td>\n",
       "      <td>Alaska</td>\n",
       "      <td>34</td>\n",
       "      <td>38</td>\n",
       "      <td>29</td>\n",
       "      <td>19</td>\n",
       "      <td>7.80</td>\n",
       "    </tr>\n",
       "    <tr>\n",
       "      <th>...</th>\n",
       "      <td>...</td>\n",
       "      <td>...</td>\n",
       "      <td>...</td>\n",
       "      <td>...</td>\n",
       "      <td>...</td>\n",
       "      <td>...</td>\n",
       "      <td>...</td>\n",
       "      <td>...</td>\n",
       "      <td>...</td>\n",
       "      <td>...</td>\n",
       "      <td>...</td>\n",
       "      <td>...</td>\n",
       "    </tr>\n",
       "    <tr>\n",
       "      <th>15679</th>\n",
       "      <td>0.11</td>\n",
       "      <td>1</td>\n",
       "      <td>1</td>\n",
       "      <td>2017</td>\n",
       "      <td>Madison</td>\n",
       "      <td>MSN</td>\n",
       "      <td>Wisconsin</td>\n",
       "      <td>27</td>\n",
       "      <td>34</td>\n",
       "      <td>19</td>\n",
       "      <td>25</td>\n",
       "      <td>6.33</td>\n",
       "    </tr>\n",
       "    <tr>\n",
       "      <th>15680</th>\n",
       "      <td>0.15</td>\n",
       "      <td>1</td>\n",
       "      <td>1</td>\n",
       "      <td>2017</td>\n",
       "      <td>Milwaukee</td>\n",
       "      <td>MKE</td>\n",
       "      <td>Wisconsin</td>\n",
       "      <td>31</td>\n",
       "      <td>38</td>\n",
       "      <td>23</td>\n",
       "      <td>25</td>\n",
       "      <td>10.98</td>\n",
       "    </tr>\n",
       "    <tr>\n",
       "      <th>15681</th>\n",
       "      <td>0.00</td>\n",
       "      <td>1</td>\n",
       "      <td>1</td>\n",
       "      <td>2017</td>\n",
       "      <td>Cheyenne</td>\n",
       "      <td>CYS</td>\n",
       "      <td>Wyoming</td>\n",
       "      <td>32</td>\n",
       "      <td>42</td>\n",
       "      <td>21</td>\n",
       "      <td>26</td>\n",
       "      <td>15.16</td>\n",
       "    </tr>\n",
       "    <tr>\n",
       "      <th>15682</th>\n",
       "      <td>0.00</td>\n",
       "      <td>1</td>\n",
       "      <td>1</td>\n",
       "      <td>2017</td>\n",
       "      <td>Lander</td>\n",
       "      <td>LND</td>\n",
       "      <td>Wyoming</td>\n",
       "      <td>17</td>\n",
       "      <td>29</td>\n",
       "      <td>4</td>\n",
       "      <td>26</td>\n",
       "      <td>1.65</td>\n",
       "    </tr>\n",
       "    <tr>\n",
       "      <th>15683</th>\n",
       "      <td>0.10</td>\n",
       "      <td>1</td>\n",
       "      <td>1</td>\n",
       "      <td>2017</td>\n",
       "      <td>Sheridan</td>\n",
       "      <td>SHR</td>\n",
       "      <td>Wyoming</td>\n",
       "      <td>21</td>\n",
       "      <td>34</td>\n",
       "      <td>8</td>\n",
       "      <td>23</td>\n",
       "      <td>7.51</td>\n",
       "    </tr>\n",
       "  </tbody>\n",
       "</table>\n",
       "<p>15684 rows × 12 columns</p>\n",
       "</div>"
      ],
      "text/plain": [
       "       Precipitation  Month  Week  Year        City Code      State  \\\n",
       "0               0.00      1     3  2016  Birmingham  BHM    Alabama   \n",
       "1               0.00      1     3  2016  Huntsville  HSV    Alabama   \n",
       "2               0.16      1     3  2016      Mobile  MOB    Alabama   \n",
       "3               0.00      1     3  2016  Montgomery  MGM    Alabama   \n",
       "4               0.01      1     3  2016   Anchorage  ANC     Alaska   \n",
       "...              ...    ...   ...   ...         ...  ...        ...   \n",
       "15679           0.11      1     1  2017     Madison  MSN  Wisconsin   \n",
       "15680           0.15      1     1  2017   Milwaukee  MKE  Wisconsin   \n",
       "15681           0.00      1     1  2017    Cheyenne  CYS    Wyoming   \n",
       "15682           0.00      1     1  2017      Lander  LND    Wyoming   \n",
       "15683           0.10      1     1  2017    Sheridan  SHR    Wyoming   \n",
       "\n",
       "       AverageTemp  MaxTemp  MinTemp  WindDirection  WindSpeed  \n",
       "0               39       46       32             33       4.33  \n",
       "1               39       47       31             32       3.86  \n",
       "2               46       51       41             35       9.73  \n",
       "3               45       52       38             32       6.86  \n",
       "4               34       38       29             19       7.80  \n",
       "...            ...      ...      ...            ...        ...  \n",
       "15679           27       34       19             25       6.33  \n",
       "15680           31       38       23             25      10.98  \n",
       "15681           32       42       21             26      15.16  \n",
       "15682           17       29        4             26       1.65  \n",
       "15683           21       34        8             23       7.51  \n",
       "\n",
       "[15684 rows x 12 columns]"
      ]
     },
     "execution_count": 7,
     "metadata": {},
     "output_type": "execute_result"
    }
   ],
   "source": [
    "# Weather Dataframe\n",
    "weather_data = pd.read_csv(\"weather_revised.csv\")\n",
    "weather_data"
   ]
  },
  {
   "cell_type": "code",
   "execution_count": 8,
   "id": "940a9acf",
   "metadata": {
    "scrolled": true
   },
   "outputs": [],
   "source": [
    "# TEMP\n",
    "# Temperature features and target variable\n",
    "temperature_features = weather_data[['MinTemp', 'MaxTemp', 'AverageTemp']]\n",
    "target_temperature = weather_data['Precipitation']"
   ]
  },
  {
   "cell_type": "code",
   "execution_count": 9,
   "id": "5e269a90",
   "metadata": {},
   "outputs": [],
   "source": [
    "# Temp\n",
    "# Split the dataset into training and testing sets for temperature\n",
    "X_train_temp, X_test_temp, y_train_temp, y_test_temp = train_test_split(\n",
    "    temperature_features, target_temperature, test_size=0.2, random_state=42)"
   ]
  },
  {
   "cell_type": "code",
   "execution_count": 10,
   "id": "97596510",
   "metadata": {},
   "outputs": [],
   "source": [
    "# TEMP\n",
    "# Standardize the features for temperature\n",
    "scaler_temp = StandardScaler()\n",
    "X_train_scaled_temp = scaler_temp.fit_transform(X_train_temp)\n",
    "X_test_scaled_temp = scaler_temp.transform(X_test_temp)"
   ]
  },
  {
   "cell_type": "code",
   "execution_count": 11,
   "id": "6a960bdd",
   "metadata": {},
   "outputs": [
    {
     "data": {
      "text/plain": [
       "KNeighborsRegressor(n_neighbors=7)"
      ]
     },
     "execution_count": 11,
     "metadata": {},
     "output_type": "execute_result"
    }
   ],
   "source": [
    "# TEMP\n",
    "# Build and train the KNN regression model for temperature\n",
    "knn_model_temp = KNeighborsRegressor(n_neighbors=7)\n",
    "knn_model_temp.fit(X_train_scaled_temp, y_train_temp)"
   ]
  },
  {
   "cell_type": "code",
   "execution_count": 12,
   "id": "7e311de0",
   "metadata": {},
   "outputs": [],
   "source": [
    "# TEMP\n",
    "# Make predictions on the test set for temperature\n",
    "y_pred_temp = knn_model_temp.predict(X_test_scaled_temp)"
   ]
  },
  {
   "cell_type": "code",
   "execution_count": 13,
   "id": "6a82051b",
   "metadata": {},
   "outputs": [],
   "source": [
    "# TEMP\n",
    "# Evaluate the model for temperature\n",
    "mse_temp = mean_squared_error(y_test_temp, y_pred_temp)"
   ]
  },
  {
   "cell_type": "code",
   "execution_count": 14,
   "id": "6e8f2859",
   "metadata": {},
   "outputs": [],
   "source": [
    "# WIND\n",
    "# Wind features and target variable\n",
    "wind_features = weather_data[['WindSpeed', 'WindDirection']]\n",
    "target_wind = weather_data['Precipitation']"
   ]
  },
  {
   "cell_type": "code",
   "execution_count": 15,
   "id": "8395ee3e",
   "metadata": {},
   "outputs": [],
   "source": [
    "# WIND\n",
    "# Split the dataset into training and testing sets for wind\n",
    "X_train_wind, X_test_wind, y_train_wind, y_test_wind = train_test_split(\n",
    "    wind_features, target_wind, test_size=0.2, random_state=42)"
   ]
  },
  {
   "cell_type": "code",
   "execution_count": 16,
   "id": "c21f5069",
   "metadata": {},
   "outputs": [],
   "source": [
    "# WIND\n",
    "# Standardize the features for wind\n",
    "scaler_wind = StandardScaler()\n",
    "X_train_scaled_wind = scaler_wind.fit_transform(X_train_wind)\n",
    "X_test_scaled_wind = scaler_wind.transform(X_test_wind)"
   ]
  },
  {
   "cell_type": "code",
   "execution_count": 17,
   "id": "a046eb3d",
   "metadata": {},
   "outputs": [
    {
     "data": {
      "text/plain": [
       "KNeighborsRegressor(n_neighbors=7)"
      ]
     },
     "execution_count": 17,
     "metadata": {},
     "output_type": "execute_result"
    }
   ],
   "source": [
    "# WIND\n",
    "# Build and train the KNN regression model for wind\n",
    "knn_model_wind = KNeighborsRegressor(n_neighbors=7)\n",
    "knn_model_wind.fit(X_train_scaled_wind, y_train_wind)"
   ]
  },
  {
   "cell_type": "code",
   "execution_count": 18,
   "id": "5acacdbc",
   "metadata": {},
   "outputs": [],
   "source": [
    "# WIND\n",
    "# Make predictions on the test set for wind\n",
    "y_pred_wind = knn_model_wind.predict(X_test_scaled_wind)"
   ]
  },
  {
   "cell_type": "code",
   "execution_count": 19,
   "id": "1a8f442b",
   "metadata": {},
   "outputs": [],
   "source": [
    "# WIND\n",
    "# Evaluate the model for wind\n",
    "mse_wind = mean_squared_error(y_test_wind, y_pred_wind)"
   ]
  },
  {
   "cell_type": "code",
   "execution_count": 20,
   "id": "9f3e0596",
   "metadata": {},
   "outputs": [
    {
     "name": "stdout",
     "output_type": "stream",
     "text": [
      "Mean Squared Error (Temperature Model): 0.46\n",
      "Mean Squared Error (Wind Model): 0.54\n"
     ]
    }
   ],
   "source": [
    "# RESULTS\n",
    "print(f\"Mean Squared Error (Temperature Model): {mse_temp:.2f}\")\n",
    "print(f\"Mean Squared Error (Wind Model): {mse_wind:.2f}\")"
   ]
  },
  {
   "cell_type": "code",
   "execution_count": 21,
   "id": "61c5caf4",
   "metadata": {},
   "outputs": [
    {
     "name": "stdout",
     "output_type": "stream",
     "text": [
      "Accuracy (Temperature Model): 0.65\n",
      "Accuracy (Wind Model): 0.56\n"
     ]
    }
   ],
   "source": [
    "# START OF TEMP ACCURACY\n",
    "# Choose a threshold value\n",
    "threshold = 0.5\n",
    "\n",
    "# Convert regression predictions to binary\n",
    "y_pred_temp_binary = (y_pred_temp > threshold).astype(int)\n",
    "y_test_temp_binary = (y_test_temp > threshold).astype(int)\n",
    "\n",
    "# Calculate accuracy for temperature model\n",
    "accuracy_temp_binary = accuracy_score(y_test_temp_binary, y_pred_temp_binary)\n",
    "# END OF TEMP ACCURACY\n",
    "\n",
    "# START OF WIND ACCURACY\n",
    "# Choose a threshold value\n",
    "threshold_wind = 0.5\n",
    "\n",
    "# Convert regression predictions to binary for wind\n",
    "y_pred_wind_binary = (y_pred_wind > threshold_wind).astype(int)\n",
    "y_test_wind_binary = (y_test_wind > threshold_wind).astype(int)\n",
    "\n",
    "# Calculate accuracy for wind model\n",
    "accuracy_wind_binary = accuracy_score(y_test_wind_binary, y_pred_wind_binary)\n",
    "# END OF WIND ACCURACY\n",
    "\n",
    "# Accuracy results\n",
    "print(f\"Accuracy (Temperature Model): {accuracy_temp_binary:.2f}\")\n",
    "print(f\"Accuracy (Wind Model): {accuracy_wind_binary:.2f}\")"
   ]
  },
  {
   "cell_type": "code",
   "execution_count": 22,
   "id": "a0735803",
   "metadata": {},
   "outputs": [],
   "source": [
    "# In terms of predicting the precipitation level on a given day.\n",
    "# The Machine Learning algorithm that can accuretly predict better would be based off temprature gagements\n",
    "# My Temprature scores for the Mean Squared Error is closer to 0 (0 meaning no errors when predicting)\n",
    "# And it's overall accuracy is higher, sitting at a 65%\n",
    "\n",
    "# This still being a 65% means that it is not the greatest way of predicting precipitation levels accuretly, but\n",
    "#     This algorithm would still give us an idea on what a supposed given day would look like based entirely\n",
    "#     off of temprature gagements\n",
    "\n",
    "# My other KNN model that uses wind is, within a doubt effective, if not a tad bit faster, but is still not as accurate\n",
    "#     Nor is it error free. any supposed day with this model could just as well be justified as a coin flip"
   ]
  },
  {
   "cell_type": "code",
   "execution_count": 23,
   "id": "a52560f3",
   "metadata": {},
   "outputs": [],
   "source": [
    "# This program mainly revolves around MSE (Mean Squared Error, the KNN algorithm, and regressors)\n",
    "# MSE - MSE is a metric used to quantify the average squared difference between \n",
    "#       predicted values and the actual values in a regression problem\n",
    "# KNN - KNN makes predictions based on the majority class or average value \n",
    "#       of the k nearest neighbors in the feature space\n",
    "# Regressor - a model designed for predicting continuous values"
   ]
  },
  {
   "cell_type": "code",
   "execution_count": 24,
   "id": "141be369",
   "metadata": {},
   "outputs": [],
   "source": [
    "# While playing around with the number of neighbors within the algorithm I noticed that the more\n",
    "#     neighbors that I add to the algorithm, the closer the MSE (Mean Squared Error) would be to 0\n",
    "#\n",
    "#     one things about MSE though, neighbors don't nessisarily effect the outcome:\n",
    "#         A lower MSE would indicate that the programs predictions are, on average, closer to the\n",
    "#         actual precipitation levels\n",
    "#         And vise-versa for a higher MSE (higher means farther from the actual values)\n",
    "#\n",
    "#     However the use of fewer neighbors might capture more local details in data, but we could risk\n",
    "#     overfitting to noise and not generalizing unseen data (this would lead to a higher MSE)\n",
    "#\n",
    "#     A larger amount of neighbors could lead to a smoother model that generalizes better\n",
    "#     This would indicate a better performance in terms of regression accuracy\n",
    "\n",
    "# My experiment with diffrent sizes of neighbors:\n",
    "# With only 1 neighbor Temp: MSE = 0.80 & Accuracy = 0.63\n",
    "#                      Wind: MSE = 0.91 & Accuracy = 0.59\n",
    "#\n",
    "# At 2 neighbors Temp: MSE = 0.59 & Accuracy = 0.63\n",
    "#                Wind: MSE = 0.69 & Accuracy = 0.57\n",
    "#\n",
    "# At 3 neighbors Temp: MSE = 0.53 & Accuracy = 0.63\n",
    "#                Wind: MSE = 0.62 & Accuracy = 0.56\n",
    "#\n",
    "# At 4 neighbors Temp: MSE = 0.47 & Accuracy = 0.65\n",
    "#                Wind: MSE = 0.57 & Accuracy = 0.56\n",
    "#\n",
    "# At 7 neighbors Temp: MSE = 0.46 & Accuracy = 0.65\n",
    "#                Wind: MSE = 0.54 & Accuracy = 0.56\n",
    "#\n",
    "# At 10 neighbors Temp: MSE = 0.44 & Accuracy = 0.65\n",
    "#                 Wind: MSE = 0.54 & Accuracy = 0.54\n",
    "#\n",
    "# At 100 neighbors Temp: MSE = 0.41 & Accuracy = 0.65\n",
    "#                  Wind: MSE = 0.48 & Accuracy = 0.53\n",
    "#\n",
    "# 1000 neighbors Temp: MSE = 0.44 & Accuracy = 0.63\n",
    "#                Wind: MSE = 0.48 & Accuracy = 0.50\n",
    "#\n",
    "# 10000 neighbors Temp: MSE = 0.49 & Accuracy = 0.49\n",
    "#                 Wind: MSE = 0.49 & Accuracy = 0.44"
   ]
  },
  {
   "cell_type": "code",
   "execution_count": 25,
   "id": "08b81e61",
   "metadata": {},
   "outputs": [],
   "source": [
    "# With this in mind we can see that if we conteniue to add more neighbors could help us level out the MSE score\n",
    "#    However, in doing so, we would see a very slight decline in the accuracy\n",
    "\n",
    "# What would be the best ammount of neighbors to set the MSE score to 0?\n",
    "#     To set the MSE score to 0, we would need to have >10000 neighbors\n",
    "\n",
    "# What would be the best ammount of neighbors to set accuracy closest to 1?\n",
    "#     To set the accuracy to 1, is an impossible task, but the closest we could ever\n",
    "#     get to 1 would be within the range of 4-100 for temprature and only 1 neighbor for wind\n",
    "\n",
    "# What really is the greatest number of neighbors to anaylze this KNN machine learning algorithm?\n",
    "#     The best number of neighbors to study our data would be around 7 neighbors, because the MSE for both\n",
    "#     temp and wind would be closer to 0 and the this is the most accurate depiction of the two"
   ]
  },
  {
   "cell_type": "code",
   "execution_count": null,
   "id": "bfb25ef4",
   "metadata": {},
   "outputs": [],
   "source": []
  }
 ],
 "metadata": {
  "kernelspec": {
   "display_name": "Python 3 (ipykernel)",
   "language": "python",
   "name": "python3"
  },
  "language_info": {
   "codemirror_mode": {
    "name": "ipython",
    "version": 3
   },
   "file_extension": ".py",
   "mimetype": "text/x-python",
   "name": "python",
   "nbconvert_exporter": "python",
   "pygments_lexer": "ipython3",
   "version": "3.9.13"
  }
 },
 "nbformat": 4,
 "nbformat_minor": 5
}
